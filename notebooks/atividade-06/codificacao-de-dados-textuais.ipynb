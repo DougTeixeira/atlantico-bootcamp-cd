{
 "cells": [
  {
   "cell_type": "markdown",
   "id": "32bad925-f5db-4338-bf36-28e19df24f49",
   "metadata": {},
   "source": [
    "# O motivo de codificar variáveis textuais"
   ]
  },
  {
   "cell_type": "markdown",
   "id": "4d86c5a3-9bb4-4f2b-b760-62832d780aff",
   "metadata": {},
   "source": [
    "## Textos são um tipo de dado não organizado, pois dependendo da ordem de suas palavras, obtemos novos significados as frases do texto, assim, não possuem uma ordem fixa para as palavras aparecerem, tornando difícil para o computador entendê-los e analisá-los.\n",
    "\n",
    "## Por isso é preciso fazer uma feature extraction, transformamos o texto em uma informação numérica, assim, podemos alimentar um modelo utilizando Bag of Words ou Tf-Idf."
   ]
  },
  {
   "cell_type": "markdown",
   "id": "0a9ebc12-114b-4097-b642-61fdd35ed59a",
   "metadata": {},
   "source": [
    "# Bag of Words"
   ]
  },
  {
   "cell_type": "markdown",
   "id": "bf9e273a-ab89-4782-a90c-514870179fa8",
   "metadata": {},
   "source": [
    "## Bag of Words (saco de palavras) é uma técnica para verificar se palavras aparecem e a frequência com que aparecem em um texto, sem se importar com a ordem e a estrutura do texto. Então, se uma palavra aparece muito num texto, ela se torna importante para a máquina e utilizando Bag of Words, podemos determinar as palavras significativas de um texto com base no número de vezes que ela é usada."
   ]
  },
  {
   "cell_type": "markdown",
   "id": "4f63323f-540a-4143-babc-ffdd644dc39f",
   "metadata": {},
   "source": [
    "# Tf–idf"
   ]
  },
  {
   "cell_type": "markdown",
   "id": "59952833-fb36-4529-a47a-6e1baafdcbe5",
   "metadata": {},
   "source": [
    "## Tf–Idf simplificação de term frequency–inverse document Frequency (frequência do termo–inverso da frequência) faz medições estatísticas para identificar a importância de uma palavra em um texto por meio de uma pontuação feita pelas métricas tf e idf.\n",
    "* ## Tf (Term Frequency): mede a frequência com que um termo ocorre no texto;\n",
    "* ## Idf (Inverse Document Frequency): mede o quão importante um termo é no contexto de todos os documentos.\n"
   ]
  },
  {
   "cell_type": "code",
   "execution_count": 1,
   "id": "417addef-405c-402e-8056-208bca067206",
   "metadata": {},
   "outputs": [
    {
     "name": "stdout",
     "output_type": "stream",
     "text": [
      "Requirement already satisfied: nltk in /home/dougteixeira/.cache/pypoetry/virtualenvs/src-oXR4AsMh-py3.8/lib/python3.8/site-packages (3.7)\n",
      "Requirement already satisfied: tqdm in /home/dougteixeira/.cache/pypoetry/virtualenvs/src-oXR4AsMh-py3.8/lib/python3.8/site-packages (from nltk) (4.64.1)\n",
      "Requirement already satisfied: joblib in /home/dougteixeira/.cache/pypoetry/virtualenvs/src-oXR4AsMh-py3.8/lib/python3.8/site-packages (from nltk) (1.1.0)\n",
      "Requirement already satisfied: regex>=2021.8.3 in /home/dougteixeira/.cache/pypoetry/virtualenvs/src-oXR4AsMh-py3.8/lib/python3.8/site-packages (from nltk) (2022.9.13)\n",
      "Requirement already satisfied: click in /home/dougteixeira/.cache/pypoetry/virtualenvs/src-oXR4AsMh-py3.8/lib/python3.8/site-packages (from nltk) (8.1.3)\n",
      "Note: you may need to restart the kernel to use updated packages.\n"
     ]
    }
   ],
   "source": [
    "pip install nltk"
   ]
  },
  {
   "cell_type": "code",
   "execution_count": 2,
   "id": "c38aff48-e366-41e1-b9fc-ef69677e6ea6",
   "metadata": {},
   "outputs": [],
   "source": [
    "# bibliotecas\n",
    "import re\n",
    "import nltk\n",
    "import math\n",
    "import numpy as np\n",
    "import pandas as pd\n",
    "from nltk import word_tokenize"
   ]
  },
  {
   "cell_type": "code",
   "execution_count": 3,
   "id": "655c4e35-a0c2-4cce-a443-bbbd500ad80c",
   "metadata": {},
   "outputs": [
    {
     "name": "stderr",
     "output_type": "stream",
     "text": [
      "[nltk_data] Downloading package punkt to\n",
      "[nltk_data]     /home/dougteixeira/nltk_data...\n",
      "[nltk_data]   Package punkt is already up-to-date!\n"
     ]
    },
    {
     "data": {
      "text/plain": [
       "True"
      ]
     },
     "execution_count": 3,
     "metadata": {},
     "output_type": "execute_result"
    }
   ],
   "source": [
    "nltk.download('punkt')"
   ]
  },
  {
   "cell_type": "code",
   "execution_count": 4,
   "id": "bb4e5d6e-379e-4f45-aac7-05b7de975e54",
   "metadata": {},
   "outputs": [
    {
     "data": {
      "text/plain": [
       "'john likes likes to to watch watch movies mary likes likes movies movies too'"
      ]
     },
     "execution_count": 4,
     "metadata": {},
     "output_type": "execute_result"
    }
   ],
   "source": [
    "# Bag of Words\n",
    "\n",
    "# Selecionando seus dados\n",
    "frases = [\n",
    "    \"John likes\",\n",
    "    \"likes to\",\n",
    "    \"to watch\",\n",
    "    \"watch movies\",\n",
    "    \"Mary likes\",\n",
    "    \"likes movies\",\n",
    "    \"movies too\",\n",
    "]\n",
    "\n",
    "# Colocando todas as letras em minúsculos\n",
    "frases_min = [i.lower() for i in frases]\n",
    "\n",
    "# juntar as frases\n",
    "texto = \" \".join(frases_min)\n",
    "texto"
   ]
  },
  {
   "cell_type": "code",
   "execution_count": 5,
   "id": "5ef3fd7d-7d3e-4f99-8023-d8570c01d0c4",
   "metadata": {},
   "outputs": [
    {
     "data": {
      "text/plain": [
       "['john', 'likes', 'to', 'watch', 'movies', 'mary', 'too']"
      ]
     },
     "execution_count": 5,
     "metadata": {},
     "output_type": "execute_result"
    }
   ],
   "source": [
    "# Separar o texto em tokens\n",
    "\n",
    "tokens = word_tokenize(texto)\n",
    "\n",
    "vocab = []\n",
    "for token in tokens:\n",
    "    if token not in vocab:\n",
    "        vocab.append(token)\n",
    "vocab"
   ]
  },
  {
   "cell_type": "code",
   "execution_count": 6,
   "id": "ef786d44-ad1f-4052-86bd-9fadb4a52add",
   "metadata": {},
   "outputs": [],
   "source": [
    "def cria_vetor_documento(documento, vocab):\n",
    "    # lista que representa o vetor\n",
    "    vetor = []\n",
    "    \n",
    "    # loop para percorrer todas as palavras do vocabulário\n",
    "    for palavra in vocab:\n",
    "        \n",
    "        # Se a palavra estiver no documento, adicionar 1 à lista; caso contrário, adicionar 0\n",
    "        if palavra in documento:\n",
    "            vetor.append(1)\n",
    "        else:\n",
    "            vetor.append(0)\n",
    "    \n",
    "    # Retorna uma lista final em um array do numpy\n",
    "    return np.array(vetor)"
   ]
  },
  {
   "cell_type": "code",
   "execution_count": 7,
   "id": "c80c99e2-ab9c-4545-ab70-f6e4b121d27c",
   "metadata": {},
   "outputs": [
    {
     "data": {
      "text/plain": [
       "array([1, 1, 0, 1, 1, 0, 0])"
      ]
     },
     "execution_count": 7,
     "metadata": {},
     "output_type": "execute_result"
    }
   ],
   "source": [
    "texto1 = 'john likes watch movies'\n",
    "cria_vetor_documento(texto1, vocab)"
   ]
  },
  {
   "cell_type": "code",
   "execution_count": 8,
   "id": "4d90f620-7c04-486e-a822-1c72f012a3a9",
   "metadata": {},
   "outputs": [
    {
     "data": {
      "text/plain": [
       "array([0, 1, 1, 0, 1, 1, 1])"
      ]
     },
     "execution_count": 8,
     "metadata": {},
     "output_type": "execute_result"
    }
   ],
   "source": [
    "texto2 = 'mary likes movies too'\n",
    "cria_vetor_documento(texto2, vocab)"
   ]
  },
  {
   "cell_type": "code",
   "execution_count": 9,
   "id": "c265ac06-b732-42c7-b4cc-d3ef1e072c89",
   "metadata": {},
   "outputs": [
    {
     "data": {
      "text/plain": [
       "array([1, 1, 1, 1, 0, 0, 0])"
      ]
     },
     "execution_count": 9,
     "metadata": {},
     "output_type": "execute_result"
    }
   ],
   "source": [
    "texto3 = 'john likes to watch'\n",
    "cria_vetor_documento(texto3, vocab)"
   ]
  },
  {
   "cell_type": "code",
   "execution_count": 10,
   "id": "73088b37-f4c4-47f1-8e0f-dc10e9d4a3c0",
   "metadata": {},
   "outputs": [],
   "source": [
    "# TF-IDF\n",
    "# A etapa de  selecionar dados e pré-processar do texto foram feitos no BoW\n",
    "# e no fim de BoW geramos um vocabulário, uma lista com todos os termos do nosso texto\n",
    "# que será utilizado aqui\n",
    "\n",
    "# Ira contar a quantidade de vezes que uma palavra do vocabulario aparece no texto\n",
    "def dicionario_de_contagem(vocabulario, documento):\n",
    "  dic = dict.fromkeys(vocabulario, 0)\n",
    "  for palavra in documento:\n",
    "    dic[palavra] += 1\n",
    "  \n",
    "  return dic"
   ]
  },
  {
   "cell_type": "code",
   "execution_count": 11,
   "id": "2f1b4646-4f18-41ae-840c-da7182fd2d57",
   "metadata": {},
   "outputs": [
    {
     "data": {
      "text/plain": [
       "{'john': 1, 'likes': 1, 'to': 0, 'watch': 1, 'movies': 1, 'mary': 0, 'too': 0}"
      ]
     },
     "execution_count": 11,
     "metadata": {},
     "output_type": "execute_result"
    }
   ],
   "source": [
    "# contagem do texto 1\n",
    "cont_dic_1 = dicionario_de_contagem(vocab, texto1.split())\n",
    "cont_dic_1"
   ]
  },
  {
   "cell_type": "code",
   "execution_count": 12,
   "id": "52be7e18-8b30-409d-8d19-fda17304b519",
   "metadata": {},
   "outputs": [
    {
     "data": {
      "text/plain": [
       "{'john': 0, 'likes': 1, 'to': 0, 'watch': 0, 'movies': 1, 'mary': 1, 'too': 1}"
      ]
     },
     "execution_count": 12,
     "metadata": {},
     "output_type": "execute_result"
    }
   ],
   "source": [
    "# contagem do texto 2\n",
    "cont_dic_2 = dicionario_de_contagem(vocab, texto2.split())\n",
    "cont_dic_2"
   ]
  },
  {
   "cell_type": "code",
   "execution_count": 13,
   "id": "1b2b6e89-7c84-43da-86af-3b93379582f3",
   "metadata": {},
   "outputs": [
    {
     "data": {
      "text/plain": [
       "{'john': 1, 'likes': 1, 'to': 1, 'watch': 1, 'movies': 0, 'mary': 0, 'too': 0}"
      ]
     },
     "execution_count": 13,
     "metadata": {},
     "output_type": "execute_result"
    }
   ],
   "source": [
    "# contagem do texto 3\n",
    "cont_dic_3 = dicionario_de_contagem(vocab, texto3.split())\n",
    "cont_dic_3"
   ]
  },
  {
   "cell_type": "code",
   "execution_count": 14,
   "id": "2c94714a-08a7-4d03-b8ed-1f4234d1e4a5",
   "metadata": {},
   "outputs": [],
   "source": [
    "# TF é a divisão da quantidade de vezes que uma palavra aparece \n",
    "# em um texto pela quantidade de palavras desse documento\n",
    "def calculaTF(cont_dic, texto):     \n",
    "    \n",
    "    tf_dic = {}\n",
    "    \n",
    "    num_palavras_doc = len(texto)     \n",
    "    for palavra, contagem in cont_dic.items():         \n",
    "        tf_dic[palavra] = contagem/float(num_palavras_doc)     \n",
    "    \n",
    "    return(tf_dic)\n"
   ]
  },
  {
   "cell_type": "code",
   "execution_count": 15,
   "id": "340babc9-6ed7-4db4-a38f-7d12a7fe78bd",
   "metadata": {},
   "outputs": [
    {
     "data": {
      "text/plain": [
       "{'john': 0.043478260869565216,\n",
       " 'likes': 0.043478260869565216,\n",
       " 'to': 0.0,\n",
       " 'watch': 0.043478260869565216,\n",
       " 'movies': 0.043478260869565216,\n",
       " 'mary': 0.0,\n",
       " 'too': 0.0}"
      ]
     },
     "execution_count": 15,
     "metadata": {},
     "output_type": "execute_result"
    }
   ],
   "source": [
    "tf1 = calculaTF(cont_dic_1, texto1)\n",
    "tf1"
   ]
  },
  {
   "cell_type": "code",
   "execution_count": 16,
   "id": "22660877-0d43-488a-8591-83259938d2a2",
   "metadata": {},
   "outputs": [
    {
     "data": {
      "text/plain": [
       "{'john': 0.0,\n",
       " 'likes': 0.047619047619047616,\n",
       " 'to': 0.0,\n",
       " 'watch': 0.0,\n",
       " 'movies': 0.047619047619047616,\n",
       " 'mary': 0.047619047619047616,\n",
       " 'too': 0.047619047619047616}"
      ]
     },
     "execution_count": 16,
     "metadata": {},
     "output_type": "execute_result"
    }
   ],
   "source": [
    "tf2 = calculaTF(cont_dic_2, texto2)\n",
    "tf2"
   ]
  },
  {
   "cell_type": "code",
   "execution_count": 17,
   "id": "81a43bd8-9488-4532-8497-457e22dc91bc",
   "metadata": {},
   "outputs": [
    {
     "data": {
      "text/plain": [
       "{'john': 0.05263157894736842,\n",
       " 'likes': 0.05263157894736842,\n",
       " 'to': 0.05263157894736842,\n",
       " 'watch': 0.05263157894736842,\n",
       " 'movies': 0.0,\n",
       " 'mary': 0.0,\n",
       " 'too': 0.0}"
      ]
     },
     "execution_count": 17,
     "metadata": {},
     "output_type": "execute_result"
    }
   ],
   "source": [
    "tf3 = calculaTF(cont_dic_3, texto3)\n",
    "tf3"
   ]
  },
  {
   "cell_type": "code",
   "execution_count": 18,
   "id": "3b18416e-01d0-45a9-8ab7-52283a184c72",
   "metadata": {},
   "outputs": [],
   "source": [
    "# IDF é peso da palavra, que será inversamente proporcional ao \n",
    "# número de documentos em que uma palavra aparece\n",
    "def computaIDF(lista_de_cont_docs):\n",
    "    idf_dic = {}\n",
    "    N = len(lista_de_cont_docs)\n",
    "\n",
    "    for palavra in lista_de_cont_docs[0]:\n",
    "        num_docs_aparece = 0\n",
    "        for doc in lista_de_cont_docs:\n",
    "            if doc[palavra]>0:\n",
    "                num_docs_aparece += 1\n",
    "        \n",
    "        idf_dic[palavra] = math.log10(N / (num_docs_aparece))\n",
    "    return (idf_dic)"
   ]
  },
  {
   "cell_type": "code",
   "execution_count": 19,
   "id": "30b68f94-21d5-4dc4-8dd2-0da458a5db91",
   "metadata": {},
   "outputs": [
    {
     "data": {
      "text/plain": [
       "{'john': 0.17609125905568124,\n",
       " 'likes': 0.0,\n",
       " 'to': 0.47712125471966244,\n",
       " 'watch': 0.17609125905568124,\n",
       " 'movies': 0.17609125905568124,\n",
       " 'mary': 0.47712125471966244,\n",
       " 'too': 0.47712125471966244}"
      ]
     },
     "execution_count": 19,
     "metadata": {},
     "output_type": "execute_result"
    }
   ],
   "source": [
    "idf = computaIDF([cont_dic_1, cont_dic_2, cont_dic_3])\n",
    "idf"
   ]
  },
  {
   "cell_type": "code",
   "execution_count": 20,
   "id": "048a3edd-36f9-41e9-a062-bdcc1771300b",
   "metadata": {},
   "outputs": [],
   "source": [
    "# Juntando TF e IDF\n",
    "# basta então multiplicar essas duas medidas.\n",
    "def computaTFIDF(tf, idf):\n",
    "    tfidf = {}\n",
    "\n",
    "    for palavra in tf:\n",
    "        tf_calc = tf[palavra]\n",
    "        idf_calc = idf[palavra]\n",
    "        tfidf[palavra] = tf_calc*idf_calc\n",
    "        \n",
    "    return(tfidf)"
   ]
  },
  {
   "cell_type": "code",
   "execution_count": 21,
   "id": "c219a971-6558-40f3-ae67-10ea51c82444",
   "metadata": {},
   "outputs": [
    {
     "data": {
      "text/plain": [
       "{'john': 0.007656141698073097,\n",
       " 'likes': 0.0,\n",
       " 'to': 0.0,\n",
       " 'watch': 0.007656141698073097,\n",
       " 'movies': 0.007656141698073097,\n",
       " 'mary': 0.0,\n",
       " 'too': 0.0}"
      ]
     },
     "execution_count": 21,
     "metadata": {},
     "output_type": "execute_result"
    }
   ],
   "source": [
    "tfidf1 = computaTFIDF(tf1, idf)\n",
    "tfidf1"
   ]
  },
  {
   "cell_type": "code",
   "execution_count": 22,
   "id": "97627544-4390-456a-b0f9-c854c6f79150",
   "metadata": {},
   "outputs": [
    {
     "data": {
      "text/plain": [
       "{'john': 0.0,\n",
       " 'likes': 0.0,\n",
       " 'to': 0.0,\n",
       " 'watch': 0.0,\n",
       " 'movies': 0.008385298050270535,\n",
       " 'mary': 0.022720059748555354,\n",
       " 'too': 0.022720059748555354}"
      ]
     },
     "execution_count": 22,
     "metadata": {},
     "output_type": "execute_result"
    }
   ],
   "source": [
    "tfidf2 = computaTFIDF(tf2, idf)\n",
    "tfidf2"
   ]
  },
  {
   "cell_type": "code",
   "execution_count": 23,
   "id": "b1272297-17b5-40a5-af2e-cdc73ec6223f",
   "metadata": {},
   "outputs": [
    {
     "data": {
      "text/plain": [
       "{'john': 0.009267961002930591,\n",
       " 'likes': 0.0,\n",
       " 'to': 0.02511164498524539,\n",
       " 'watch': 0.009267961002930591,\n",
       " 'movies': 0.0,\n",
       " 'mary': 0.0,\n",
       " 'too': 0.0}"
      ]
     },
     "execution_count": 23,
     "metadata": {},
     "output_type": "execute_result"
    }
   ],
   "source": [
    "tfidf3 = computaTFIDF(tf3, idf)\n",
    "tfidf3"
   ]
  },
  {
   "cell_type": "code",
   "execution_count": 26,
   "id": "ae43984d-87d0-48eb-ac60-f375207c4a91",
   "metadata": {},
   "outputs": [
    {
     "data": {
      "text/html": [
       "<div>\n",
       "<style scoped>\n",
       "    .dataframe tbody tr th:only-of-type {\n",
       "        vertical-align: middle;\n",
       "    }\n",
       "\n",
       "    .dataframe tbody tr th {\n",
       "        vertical-align: top;\n",
       "    }\n",
       "\n",
       "    .dataframe thead th {\n",
       "        text-align: right;\n",
       "    }\n",
       "</style>\n",
       "<table border=\"1\" class=\"dataframe\">\n",
       "  <thead>\n",
       "    <tr style=\"text-align: right;\">\n",
       "      <th></th>\n",
       "      <th>john</th>\n",
       "      <th>likes</th>\n",
       "      <th>to</th>\n",
       "      <th>watch</th>\n",
       "      <th>movies</th>\n",
       "      <th>mary</th>\n",
       "      <th>too</th>\n",
       "    </tr>\n",
       "    <tr>\n",
       "      <th>Textos</th>\n",
       "      <th></th>\n",
       "      <th></th>\n",
       "      <th></th>\n",
       "      <th></th>\n",
       "      <th></th>\n",
       "      <th></th>\n",
       "      <th></th>\n",
       "    </tr>\n",
       "  </thead>\n",
       "  <tbody>\n",
       "    <tr>\n",
       "      <th>texto 1</th>\n",
       "      <td>0.007656</td>\n",
       "      <td>0.0</td>\n",
       "      <td>0.000000</td>\n",
       "      <td>0.007656</td>\n",
       "      <td>0.007656</td>\n",
       "      <td>0.00000</td>\n",
       "      <td>0.00000</td>\n",
       "    </tr>\n",
       "    <tr>\n",
       "      <th>texto 2</th>\n",
       "      <td>0.000000</td>\n",
       "      <td>0.0</td>\n",
       "      <td>0.000000</td>\n",
       "      <td>0.000000</td>\n",
       "      <td>0.008385</td>\n",
       "      <td>0.02272</td>\n",
       "      <td>0.02272</td>\n",
       "    </tr>\n",
       "    <tr>\n",
       "      <th>texto 3</th>\n",
       "      <td>0.009268</td>\n",
       "      <td>0.0</td>\n",
       "      <td>0.025112</td>\n",
       "      <td>0.009268</td>\n",
       "      <td>0.000000</td>\n",
       "      <td>0.00000</td>\n",
       "      <td>0.00000</td>\n",
       "    </tr>\n",
       "  </tbody>\n",
       "</table>\n",
       "</div>"
      ],
      "text/plain": [
       "             john  likes        to     watch    movies     mary      too\n",
       "Textos                                                                  \n",
       "texto 1  0.007656    0.0  0.000000  0.007656  0.007656  0.00000  0.00000\n",
       "texto 2  0.000000    0.0  0.000000  0.000000  0.008385  0.02272  0.02272\n",
       "texto 3  0.009268    0.0  0.025112  0.009268  0.000000  0.00000  0.00000"
      ]
     },
     "execution_count": 26,
     "metadata": {},
     "output_type": "execute_result"
    }
   ],
   "source": [
    "# DataFrame para visualizar as pontuações resultantes\n",
    "# texto1 = 'john likes watch movies'\n",
    "# texto2 = 'mary likes movies too'\n",
    "# texto3 = 'john likes to watch'\n",
    "tfidf_df = pd.DataFrame([tfidf1, tfidf2, tfidf3])\n",
    "tfidf_df[\"Textos\"] = ['texto 1', 'texto 2', 'texto 3']\n",
    "tfidf_df.reset_index(inplace=True)\n",
    "tfidf_df.set_index('index', inplace=True)\n",
    "tfidf_df.set_index('Textos', inplace=True)\n",
    "tfidf_df"
   ]
  },
  {
   "cell_type": "markdown",
   "id": "fd71a8e5-cce6-4eb3-8dc3-58e00b5e0172",
   "metadata": {},
   "source": [
    "## Quanto maior o valor do peso, mais raro é a palavra. Quanto menor, mais comum é a palavra.\n",
    "## Palavras que não aparecem no texto e palavras aparecem em todas os textos ficam com pontuação 0, porque se aparece em todas os textos, teremos no df(t)=N, um idf de log(N/N)=log1=0."
   ]
  }
 ],
 "metadata": {
  "kernelspec": {
   "display_name": "Python 3 (ipykernel)",
   "language": "python",
   "name": "python3"
  },
  "language_info": {
   "codemirror_mode": {
    "name": "ipython",
    "version": 3
   },
   "file_extension": ".py",
   "mimetype": "text/x-python",
   "name": "python",
   "nbconvert_exporter": "python",
   "pygments_lexer": "ipython3",
   "version": "3.8.10"
  }
 },
 "nbformat": 4,
 "nbformat_minor": 5
}
